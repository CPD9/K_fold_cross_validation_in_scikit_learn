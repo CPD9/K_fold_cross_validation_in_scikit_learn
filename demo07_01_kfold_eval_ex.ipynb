{
  "cells": [
    {
      "cell_type": "markdown",
      "metadata": {
        "id": "XeR0-g3OKGG0"
      },
      "source": [
        "# Introduction to Artificial Intelligence: HS 2023\n",
        "\n",
        "\n",
        "---\n",
        "\n",
        "## Lecture 7: Model Evaluation"
      ]
    },
    {
      "cell_type": "code",
      "execution_count": null,
      "metadata": {
        "id": "c8T-cdc2KGG1"
      },
      "outputs": [],
      "source": [
        "import numpy as np\n",
        "import matplotlib.pyplot as plt"
      ]
    },
    {
      "cell_type": "markdown",
      "metadata": {
        "id": "TjswN1MJKGG1"
      },
      "source": [
        "\n",
        "\n",
        "## K-fold Cross-Validation in Scikit-Learn"
      ]
    },
    {
      "cell_type": "markdown",
      "metadata": {
        "id": "9NlJ66zaKGG1"
      },
      "source": [
        "- In the example below, we create a synthetic dataset to illustrate the usage of sklearn's cross-validation iterator. In this example, we have an equal distributed dataset, i.e. the same amount of samples for each of the two classes:"
      ]
    },
    {
      "cell_type": "code",
      "execution_count": null,
      "metadata": {
        "colab": {
          "base_uri": "https://localhost:8080/"
        },
        "id": "LHIEvurFKGG2",
        "outputId": "f52db5ad-7d81-4d5c-9d2a-b6e86f15d9c0"
      },
      "outputs": [
        {
          "output_type": "stream",
          "name": "stdout",
          "text": [
            "(array([2, 3, 4, 5, 6, 7, 8, 9]), array([0, 1]))\n",
            "(array([0, 1, 4, 5, 6, 7, 8, 9]), array([2, 3]))\n",
            "(array([0, 1, 2, 3, 6, 7, 8, 9]), array([4, 5]))\n",
            "(array([0, 1, 2, 3, 4, 5, 8, 9]), array([6, 7]))\n",
            "(array([0, 1, 2, 3, 4, 5, 6, 7]), array([8, 9]))\n"
          ]
        }
      ],
      "source": [
        "from sklearn.model_selection import KFold\n",
        "\n",
        "# 10 rows 4 columns\n",
        "rng = np.random.RandomState(123)\n",
        "\n",
        "y = np.array([0, 0, 0, 0, 0, 1, 1, 1, 1, 1])\n",
        "X = rng.random_sample((y.shape[0], 4))\n",
        "\n",
        "\n",
        "cv = KFold(n_splits=5) # Create a Kfold with 5 folds\n",
        "\n",
        "for k in cv.split(X,y): # split the dataset onto the different folds using the created fold\n",
        "    print(k)\n"
      ]
    },
    {
      "cell_type": "markdown",
      "metadata": {
        "id": "Y7ng77VvKGG2"
      },
      "source": [
        "- Recall that we should usually shuffle the dataset, because if the data records are sorted by their class labels, this would lead to inconsistencies, such as classes being underrepresented or overrepresented."
      ]
    },
    {
      "cell_type": "code",
      "execution_count": null,
      "metadata": {
        "colab": {
          "base_uri": "https://localhost:8080/"
        },
        "id": "PQxYouTpKGG2",
        "outputId": "29ef8a4a-9b5b-4188-faec-9407870ee296"
      },
      "outputs": [
        {
          "output_type": "stream",
          "name": "stdout",
          "text": [
            "(array([0, 1, 3, 4, 5, 6, 7, 8]), array([2, 9]))\n",
            "(array([0, 1, 2, 3, 5, 7, 8, 9]), array([4, 6]))\n",
            "(array([1, 2, 4, 5, 6, 7, 8, 9]), array([0, 3]))\n",
            "(array([0, 2, 3, 4, 5, 6, 8, 9]), array([1, 7]))\n",
            "(array([0, 1, 2, 3, 4, 6, 7, 9]), array([5, 8]))\n"
          ]
        }
      ],
      "source": [
        "cv = KFold(n_splits=5,shuffle = True, random_state =1) # Create a Kfold with shuffled samples\n",
        "\n",
        "for k in cv.split(X,y): # split the dataset onto the different folds using the created fold\n",
        "    print(k)"
      ]
    },
    {
      "cell_type": "markdown",
      "metadata": {
        "id": "sRcOTDlbKGG2"
      },
      "source": [
        "- As we see, the `KFold` iterator provides an array of indices corresponding to the selected samples, however, we are interested in the feature values and their corresponding class labels."
      ]
    },
    {
      "cell_type": "code",
      "source": [
        "cv = KFold(shuffle = True)  # Create a Kfold with shuffled samples\n",
        "\n",
        "for train_idx, test_idx  in cv.split(X,y): # get the train and validation indexes from the dataset split\n",
        "    print('train labels with shuffling', y[train_idx])\n",
        "    print('train labels with shuffling', y[test_idx])\n",
        "    print('\\n')"
      ],
      "metadata": {
        "colab": {
          "base_uri": "https://localhost:8080/"
        },
        "id": "pskWgDOSlsBo",
        "outputId": "0cf8d9e6-0e0f-4f77-e841-7c271d1864d5"
      },
      "execution_count": null,
      "outputs": [
        {
          "output_type": "stream",
          "name": "stdout",
          "text": [
            "train labels with shuffling [0 0 0 0 0 1 1 1]\n",
            "train labels with shuffling [1 1]\n",
            "\n",
            "\n",
            "train labels with shuffling [0 0 0 0 0 1 1 1]\n",
            "train labels with shuffling [1 1]\n",
            "\n",
            "\n",
            "train labels with shuffling [0 0 0 0 1 1 1 1]\n",
            "train labels with shuffling [0 1]\n",
            "\n",
            "\n",
            "train labels with shuffling [0 0 0 1 1 1 1 1]\n",
            "train labels with shuffling [0 0]\n",
            "\n",
            "\n",
            "train labels with shuffling [0 0 0 1 1 1 1 1]\n",
            "train labels with shuffling [0 0]\n",
            "\n",
            "\n"
          ]
        }
      ]
    },
    {
      "cell_type": "markdown",
      "metadata": {
        "id": "5w_TnOz8KGG3"
      },
      "source": [
        "- As the datasets usually have their own class distributions, it's usually important to stratify the slipts so as to keep the original class distributions. Especially in the case of skewed datasets, this can be relevant."
      ]
    },
    {
      "cell_type": "markdown",
      "metadata": {
        "id": "79lb5y-dKGG3"
      },
      "source": [
        "- Use the iris dataset and stratified folding to train a Random Forest Classifier. Next, evaluate the model results on the test dataset."
      ]
    },
    {
      "cell_type": "code",
      "source": [
        "from sklearn.model_selection import StratifiedKFold\n",
        "\n",
        "cv = StratifiedKFold(n_splits=5) # initialise a stratified object with 5 different folds\n",
        "\n",
        "for train_idx, test_idx in cv.split(X,y): # get train and validation indexes from the dataset split\n",
        "    print('train labels with shuffling', y[train_idx])\n",
        "    print('train labels with shuffling', y[test_idx])\n",
        "    print('\\n')"
      ],
      "metadata": {
        "colab": {
          "base_uri": "https://localhost:8080/"
        },
        "id": "za64Y0vzp5Jw",
        "outputId": "0321d6db-e31d-4396-82dd-5174fb7e3298"
      },
      "execution_count": null,
      "outputs": [
        {
          "output_type": "stream",
          "name": "stdout",
          "text": [
            "train labels with shuffling [0 0 0 0 1 1 1 1]\n",
            "train labels with shuffling [0 1]\n",
            "\n",
            "\n",
            "train labels with shuffling [0 0 0 0 1 1 1 1]\n",
            "train labels with shuffling [0 1]\n",
            "\n",
            "\n",
            "train labels with shuffling [0 0 0 0 1 1 1 1]\n",
            "train labels with shuffling [0 1]\n",
            "\n",
            "\n",
            "train labels with shuffling [0 0 0 0 1 1 1 1]\n",
            "train labels with shuffling [0 1]\n",
            "\n",
            "\n",
            "train labels with shuffling [0 0 0 0 1 1 1 1]\n",
            "train labels with shuffling [0 1]\n",
            "\n",
            "\n"
          ]
        }
      ]
    },
    {
      "cell_type": "code",
      "source": [
        "from sklearn.tree import DecisionTreeClassifier\n",
        "from mlxtend.data import iris_data\n",
        "from sklearn.model_selection import train_test_split\n",
        "\n",
        "nb_folds = 10\n",
        "X, y = iris_data()\n",
        "X_train, X_test, y_train, y_test = train_test_split(X,y,shuffle=True, test_size=0.15, stratify=y) # train split the dataset\n",
        "\n",
        "cv = StratifiedKFold(n_splits=5, shuffle= True, random_state=1) # initialise stratified folding with 10 folds\n",
        "\n",
        "kfold_acc = 0.\n",
        "for train_idx, valid_idx in cv.split(X_train,y_train): # get train and validation indexes\n",
        "    clf = DecisionTreeClassifier(max_depth=3, random_state=1) # initialise classifier\n",
        "    clf.fit(X_train[train_idx],y_train[train_idx]) # fit your classifier on the corresponding training dataset\n",
        "    y_pred = clf.predict(X_train[valid_idx]) # get the model predictions on the correspoding validation fold\n",
        "    acc = np.mean(y_pred == y_train[valid_idx])*100\n",
        "    kfold_acc += acc\n",
        "kfold_acc /= nb_folds\n",
        "\n",
        "print('Kfold Accuracy: %.2f%%' % kfold_acc)\n",
        "\n"
      ],
      "metadata": {
        "colab": {
          "base_uri": "https://localhost:8080/"
        },
        "id": "uMg15158mabQ",
        "outputId": "49b24756-dfbc-4fc8-933f-bef11aff6b01"
      },
      "execution_count": null,
      "outputs": [
        {
          "output_type": "stream",
          "name": "stdout",
          "text": [
            "Kfold Accuracy: 47.63%\n"
          ]
        }
      ]
    },
    {
      "cell_type": "markdown",
      "metadata": {
        "id": "JAwSTOBQKGG4"
      },
      "source": [
        "Next, we use `sklearn` function `cross_val_score` to automatically perform cross-fold validation instead of performing all the previous manual steps.\n"
      ]
    },
    {
      "cell_type": "code",
      "execution_count": null,
      "metadata": {
        "colab": {
          "base_uri": "https://localhost:8080/"
        },
        "id": "xz_BEDXAKGG4",
        "outputId": "a9744088-9712-4803-a349-86b0b0083dc5"
      },
      "outputs": [
        {
          "output_type": "stream",
          "name": "stdout",
          "text": [
            "Kfold Accuracy: 95.26%\n"
          ]
        }
      ],
      "source": [
        "from sklearn.model_selection import cross_val_score\n",
        "\n",
        "\n",
        "cv_acc = cross_val_score(estimator = DecisionTreeClassifier(max_depth = 3, random_state=1),X=X_train,y=y_train, cv= StratifiedKFold(n_splits=5,random_state=1, shuffle=True))\n",
        "\n",
        "print('Kfold Accuracy: %.2f%%' % (np.mean(cv_acc)*100))"
      ]
    },
    {
      "cell_type": "code",
      "source": [],
      "metadata": {
        "id": "OqaOUEoMtuXp"
      },
      "execution_count": null,
      "outputs": []
    }
  ],
  "metadata": {
    "kernelspec": {
      "display_name": "Python 3",
      "language": "python",
      "name": "python3"
    },
    "language_info": {
      "codemirror_mode": {
        "name": "ipython",
        "version": 3
      },
      "file_extension": ".py",
      "mimetype": "text/x-python",
      "name": "python",
      "nbconvert_exporter": "python",
      "pygments_lexer": "ipython3",
      "version": "3.8.2"
    },
    "colab": {
      "provenance": []
    }
  },
  "nbformat": 4,
  "nbformat_minor": 0
}